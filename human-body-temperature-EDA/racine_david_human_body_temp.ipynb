{
 "cells": [
  {
   "cell_type": "markdown",
   "metadata": {},
   "source": [
    "# What is the True Normal Human Body Temperature? \n",
    "\n",
    "#### Background\n",
    "\n",
    "The mean normal body temperature was held to be 37$^{\\circ}$C or 98.6$^{\\circ}$F for more than 120 years since it was first conceptualized and reported by Carl Wunderlich in a famous 1868 book. But, is this value statistically correct?"
   ]
  },
  {
   "cell_type": "markdown",
   "metadata": {},
   "source": [
    "<h3>Exercises</h3>\n",
    "\n",
    "<p>In this exercise, you will analyze a dataset of human body temperatures and employ the concepts of hypothesis testing, confidence intervals, and statistical significance.</p>\n",
    "\n",
    "<p>Answer the following questions <b>in this notebook below and submit to your Github account</b>.</p> \n",
    "\n",
    "<ol>\n",
    "<li>  Is the distribution of body temperatures normal? \n",
    "    <ul>\n",
    "    <li> Although this is not a requirement for CLT to hold (read CLT carefully), it gives us some peace of mind that the population may also be normally distributed if we assume that this sample is representative of the population.\n",
    "    </ul>\n",
    "<li>  Is the sample size large? Are the observations independent?\n",
    "    <ul>\n",
    "    <li> Remember that this is a condition for the CLT, and hence the statistical tests we are using, to apply.\n",
    "    </ul>\n",
    "<li>  Is the true population mean really 98.6 degrees F?\n",
    "    <ul>\n",
    "    <li> Would you use a one-sample or two-sample test? Why?\n",
    "    <li> In this situation, is it appropriate to use the $t$ or $z$ statistic? \n",
    "    <li> Now try using the other test. How is the result be different? Why?\n",
    "    </ul>\n",
    "<li>  Draw a small sample of size 10 from the data and repeat both tests. \n",
    "    <ul>\n",
    "    <li> Which one is the correct one to use? \n",
    "    <li> What do you notice? What does this tell you about the difference in application of the $t$ and $z$ statistic?\n",
    "    </ul>\n",
    "<li>  At what temperature should we consider someone's temperature to be \"abnormal\"?\n",
    "    <ul>\n",
    "    <li> Start by computing the margin of error and confidence interval.\n",
    "    </ul>\n",
    "<li>  Is there a significant difference between males and females in normal temperature?\n",
    "    <ul>\n",
    "    <li> What test did you use and why?\n",
    "    <li> Write a story with your conclusion in the context of the original problem.\n",
    "    </ul>\n",
    "</ol>\n",
    "\n",
    "You can include written notes in notebook cells using Markdown: \n",
    "   - In the control panel at the top, choose Cell > Cell Type > Markdown\n",
    "   - Markdown syntax: http://nestacms.com/docs/creating-content/markdown-cheat-sheet\n",
    "\n",
    "#### Resources\n",
    "\n",
    "+ Information and data sources: http://www.amstat.org/publications/jse/datasets/normtemp.txt, http://www.amstat.org/publications/jse/jse_data_archive.htm\n",
    "+ Markdown syntax: http://nestacms.com/docs/creating-content/markdown-cheat-sheet\n",
    "\n",
    "****"
   ]
  },
  {
   "cell_type": "code",
   "execution_count": 1,
   "metadata": {
    "collapsed": true
   },
   "outputs": [],
   "source": [
    "import pandas as pd\n",
    "import numpy as np\n",
    "import matplotlib.pyplot as plt\n",
    "from scipy import stats\n",
    "\n",
    "df = pd.read_csv('data/human_body_temperature.csv')"
   ]
  },
  {
   "cell_type": "markdown",
   "metadata": {},
   "source": [
    "## First, explore the dataframe a bit."
   ]
  },
  {
   "cell_type": "code",
   "execution_count": 2,
   "metadata": {},
   "outputs": [
    {
     "data": {
      "text/html": [
       "<div>\n",
       "<style>\n",
       "    .dataframe thead tr:only-child th {\n",
       "        text-align: right;\n",
       "    }\n",
       "\n",
       "    .dataframe thead th {\n",
       "        text-align: left;\n",
       "    }\n",
       "\n",
       "    .dataframe tbody tr th {\n",
       "        vertical-align: top;\n",
       "    }\n",
       "</style>\n",
       "<table border=\"1\" class=\"dataframe\">\n",
       "  <thead>\n",
       "    <tr style=\"text-align: right;\">\n",
       "      <th></th>\n",
       "      <th>temperature</th>\n",
       "      <th>heart_rate</th>\n",
       "    </tr>\n",
       "  </thead>\n",
       "  <tbody>\n",
       "    <tr>\n",
       "      <th>count</th>\n",
       "      <td>130.000000</td>\n",
       "      <td>130.000000</td>\n",
       "    </tr>\n",
       "    <tr>\n",
       "      <th>mean</th>\n",
       "      <td>98.249231</td>\n",
       "      <td>73.761538</td>\n",
       "    </tr>\n",
       "    <tr>\n",
       "      <th>std</th>\n",
       "      <td>0.733183</td>\n",
       "      <td>7.062077</td>\n",
       "    </tr>\n",
       "    <tr>\n",
       "      <th>min</th>\n",
       "      <td>96.300000</td>\n",
       "      <td>57.000000</td>\n",
       "    </tr>\n",
       "    <tr>\n",
       "      <th>25%</th>\n",
       "      <td>97.800000</td>\n",
       "      <td>69.000000</td>\n",
       "    </tr>\n",
       "    <tr>\n",
       "      <th>50%</th>\n",
       "      <td>98.300000</td>\n",
       "      <td>74.000000</td>\n",
       "    </tr>\n",
       "    <tr>\n",
       "      <th>75%</th>\n",
       "      <td>98.700000</td>\n",
       "      <td>79.000000</td>\n",
       "    </tr>\n",
       "    <tr>\n",
       "      <th>max</th>\n",
       "      <td>100.800000</td>\n",
       "      <td>89.000000</td>\n",
       "    </tr>\n",
       "  </tbody>\n",
       "</table>\n",
       "</div>"
      ],
      "text/plain": [
       "       temperature  heart_rate\n",
       "count   130.000000  130.000000\n",
       "mean     98.249231   73.761538\n",
       "std       0.733183    7.062077\n",
       "min      96.300000   57.000000\n",
       "25%      97.800000   69.000000\n",
       "50%      98.300000   74.000000\n",
       "75%      98.700000   79.000000\n",
       "max     100.800000   89.000000"
      ]
     },
     "execution_count": 2,
     "metadata": {},
     "output_type": "execute_result"
    }
   ],
   "source": [
    "df.describe()"
   ]
  },
  {
   "cell_type": "code",
   "execution_count": 3,
   "metadata": {},
   "outputs": [
    {
     "data": {
      "text/html": [
       "<div>\n",
       "<style>\n",
       "    .dataframe thead tr:only-child th {\n",
       "        text-align: right;\n",
       "    }\n",
       "\n",
       "    .dataframe thead th {\n",
       "        text-align: left;\n",
       "    }\n",
       "\n",
       "    .dataframe tbody tr th {\n",
       "        vertical-align: top;\n",
       "    }\n",
       "</style>\n",
       "<table border=\"1\" class=\"dataframe\">\n",
       "  <thead>\n",
       "    <tr style=\"text-align: right;\">\n",
       "      <th></th>\n",
       "      <th>temperature</th>\n",
       "      <th>gender</th>\n",
       "      <th>heart_rate</th>\n",
       "    </tr>\n",
       "  </thead>\n",
       "  <tbody>\n",
       "    <tr>\n",
       "      <th>0</th>\n",
       "      <td>99.3</td>\n",
       "      <td>F</td>\n",
       "      <td>68.0</td>\n",
       "    </tr>\n",
       "    <tr>\n",
       "      <th>1</th>\n",
       "      <td>98.4</td>\n",
       "      <td>F</td>\n",
       "      <td>81.0</td>\n",
       "    </tr>\n",
       "    <tr>\n",
       "      <th>2</th>\n",
       "      <td>97.8</td>\n",
       "      <td>M</td>\n",
       "      <td>73.0</td>\n",
       "    </tr>\n",
       "    <tr>\n",
       "      <th>3</th>\n",
       "      <td>99.2</td>\n",
       "      <td>F</td>\n",
       "      <td>66.0</td>\n",
       "    </tr>\n",
       "    <tr>\n",
       "      <th>4</th>\n",
       "      <td>98.0</td>\n",
       "      <td>F</td>\n",
       "      <td>73.0</td>\n",
       "    </tr>\n",
       "  </tbody>\n",
       "</table>\n",
       "</div>"
      ],
      "text/plain": [
       "   temperature gender  heart_rate\n",
       "0         99.3      F        68.0\n",
       "1         98.4      F        81.0\n",
       "2         97.8      M        73.0\n",
       "3         99.2      F        66.0\n",
       "4         98.0      F        73.0"
      ]
     },
     "execution_count": 3,
     "metadata": {},
     "output_type": "execute_result"
    }
   ],
   "source": [
    "df.head(5)"
   ]
  },
  {
   "cell_type": "markdown",
   "metadata": {},
   "source": [
    "## 1.  Is the distribution of body temperatures normal?"
   ]
  },
  {
   "cell_type": "code",
   "execution_count": 20,
   "metadata": {
    "collapsed": true
   },
   "outputs": [],
   "source": [
    "#\n",
    "# ECDF function.\n",
    "#\n",
    "def ecdf(data):\n",
    "    \"\"\" Compute ECDF for a one-dimensional array of measurements \"\"\"\n",
    "     \n",
    "    # Numer of data points: n\n",
    "    n = len(data)\n",
    "     \n",
    "    # x-data for the ecdf: x\n",
    "    x = np.sort(data)\n",
    "     \n",
    "    # y-data for the ecdf: y\n",
    "    y = np.arange(1, len(x) + 1) / n\n",
    "     \n",
    "    return x, y"
   ]
  },
  {
   "cell_type": "code",
   "execution_count": 33,
   "metadata": {},
   "outputs": [
    {
     "data": {
      "image/png": "[encoded data removed]",
      "text/plain": [
       "<matplotlib.figure.Figure at 0x1142b4358>"
      ]
     },
     "metadata": {},
     "output_type": "display_data"
    }
   ],
   "source": [
    "#\n",
    "# Plot the ECDF of the data.\n",
    "#\n",
    "x,y = ecdf(df.temperature)\n",
    "plt.plot(x, y, linestyle='none', marker='.')\n",
    "\n",
    "#\n",
    "# Generate and overlay a normal distrubution ECDF, centered at sample mean.\n",
    "#\n",
    "norm = np.random.normal(np.mean(df.temperature), size=1000)\n",
    "x,y = ecdf(norm)\n",
    "plt.plot(x, y, linestyle='none', marker='.', alpha=0.5)\n",
    "\n",
    "#\n",
    "# Configure plot options.\n",
    "#\n",
    "plt.xlabel('Temperature')\n",
    "plt.ylabel('ECDF')\n",
    "plt.legend(['Sample ECDF', 'Normal ECDF'], loc='upper left')\n",
    "plt.margins(0.02)\n",
    "\n",
    "#\n",
    "# Show the plot.\n",
    "#\n",
    "plt.show()"
   ]
  },
  {
   "cell_type": "code",
   "execution_count": 6,
   "metadata": {},
   "outputs": [
    {
     "data": {
      "text/plain": [
       "NormaltestResult(statistic=2.7038014333192031, pvalue=0.2587479863488254)"
      ]
     },
     "execution_count": 6,
     "metadata": {},
     "output_type": "execute_result"
    }
   ],
   "source": [
    "#\n",
    "# Run the normal test as well.\n",
    "#\n",
    "stats.normaltest(df.temperature)"
   ]
  },
  {
   "cell_type": "markdown",
   "metadata": {},
   "source": [
    "### Result\n",
    "\n",
    "- The distribution of the temperatures apears to be mostly normal.  From the normal test, the probability of observing a normal distribution from the population is 26%."
   ]
  },
  {
   "cell_type": "markdown",
   "metadata": {},
   "source": [
    "## 2. Is the sample size large? Are the observations independent?"
   ]
  },
  {
   "cell_type": "code",
   "execution_count": 7,
   "metadata": {},
   "outputs": [
    {
     "name": "stdout",
     "output_type": "stream",
     "text": [
      "130\n"
     ]
    }
   ],
   "source": [
    "#\n",
    "# Print the number of samples.\n",
    "#\n",
    "num_samples = len(df.temperature)\n",
    "print(num_samples)"
   ]
  },
  {
   "cell_type": "code",
   "execution_count": 8,
   "metadata": {
    "scrolled": true
   },
   "outputs": [
    {
     "name": "stdout",
     "output_type": "stream",
     "text": [
      "0.0643415706412\n"
     ]
    }
   ],
   "source": [
    "#\n",
    "# Calculate the Pearson correlation coefficient.\n",
    "# \n",
    "pearson = np.corrcoef(df.temperature, df.heart_rate)[0][1]\n",
    "\n",
    "#\n",
    "# Calculate and print the coefficient of determination from the Pearson correlation coefficient.\n",
    "#\n",
    "cod = pearson ** 2\n",
    "print(cod)"
   ]
  },
  {
   "cell_type": "markdown",
   "metadata": {},
   "source": [
    "### Result\n",
    "\n",
    "- The sampe size is not large at 130 samples.  \n",
    "- Only about 6.4% variation in 'temperature' can be attributed to the variation in 'body_heat'.  Therefore, the variables are mostly independent. "
   ]
  },
  {
   "cell_type": "markdown",
   "metadata": {},
   "source": [
    "## 3. Is the true population mean really 98.6 degrees F?\n",
    "\n",
    "- Would you use a one-sample or two-sample test? Why?\n",
    "- In this situation, is it appropriate to use the t or z statistic?\n",
    "- Now try using the other test. How is the result be different? Why?"
   ]
  },
  {
   "cell_type": "code",
   "execution_count": 9,
   "metadata": {},
   "outputs": [
    {
     "data": {
      "text/plain": [
       "Ttest_1sampResult(statistic=-5.4548232923645195, pvalue=2.4106320415561276e-07)"
      ]
     },
     "execution_count": 9,
     "metadata": {},
     "output_type": "execute_result"
    }
   ],
   "source": [
    "#\n",
    "# Run the one-sample t test.\n",
    "#\n",
    "samples = df.temperature\n",
    "stats.ttest_1samp(samples, 98.6)"
   ]
  },
  {
   "cell_type": "code",
   "execution_count": 10,
   "metadata": {},
   "outputs": [
    {
     "name": "stdout",
     "output_type": "stream",
     "text": [
      "3.44444007299\n"
     ]
    }
   ],
   "source": [
    "#\n",
    "# Generate a normal population with mean at 98.6.\n",
    "#\n",
    "np.random.seed(42)\n",
    "pop = np.random.normal(98.6, size=num_samples)\n",
    "\n",
    "#\n",
    "# Calculate the z statistic.\n",
    "#\n",
    "pop_mean = np.mean(pop)\n",
    "sample_mean = np.mean(samples)\n",
    "pop_dev = np.std(pop)\n",
    "z = (pop_mean - sample_mean) / (pop_dev / np.sqrt(num_samples))\n",
    "\n",
    "#\n",
    "# The p value for a z score of 3.44 is 0.00058.\n",
    "#\n",
    "print(z)\n"
   ]
  },
  {
   "cell_type": "markdown",
   "metadata": {},
   "source": [
    "### Result\n",
    "\n",
    "- A one-sample test should be used as we are comparing a sample with a population.\n",
    "\n",
    "- A z statistic/test should be used as the sample size is considered large (n >= 30). The p value for the z-statistic of 3.44 is 0.00058.  This p value is quite a bit larger than the p value obtained using the t-test.  This is due to the fact that we are assuming a normal distribution and thus a normal standard deviation as the true population standard deviation is not known. \n",
    "\n",
    "- From the t-test, the probability of observing a sample mean of 98.6 from the population is 2.4e-7 (quite small).  Therefore, based on the result of the one-sample t-test, we can reject the null hypothesis that µ=98.6."
   ]
  },
  {
   "cell_type": "markdown",
   "metadata": {},
   "source": [
    "## 4 Draw a small sample of size 10 from the data and repeat both tests.\n",
    "\n",
    "- Which one is the correct one to use?\n",
    "- What do you notice? What does this tell you about the difference in application of the t and z  statistic?"
   ]
  },
  {
   "cell_type": "code",
   "execution_count": 11,
   "metadata": {},
   "outputs": [
    {
     "data": {
      "text/plain": [
       "Ttest_1sampResult(statistic=-3.0934479202257976, pvalue=0.012857704604809363)"
      ]
     },
     "execution_count": 11,
     "metadata": {},
     "output_type": "execute_result"
    }
   ],
   "source": [
    "#\n",
    "# Draw a random 10 samples.\n",
    "#\n",
    "np.random.seed(42)\n",
    "samples = np.random.choice(df.temperature, 10)\n",
    "\n",
    "#\n",
    "# Run the one-sample t test.\n",
    "#\n",
    "stats.ttest_1samp(samples, 98.6)"
   ]
  },
  {
   "cell_type": "code",
   "execution_count": 12,
   "metadata": {},
   "outputs": [
    {
     "name": "stdout",
     "output_type": "stream",
     "text": [
      "2.88334410741\n"
     ]
    }
   ],
   "source": [
    "#\n",
    "# Generate a normal population with mean at 98.6.\n",
    "#\n",
    "np.random.seed(42)\n",
    "pop = np.random.choice(np.random.normal(98.6, size=num_samples), 10)\n",
    "\n",
    "#\n",
    "# Calculate the z statistic.\n",
    "#\n",
    "pop_mean = np.mean(pop)\n",
    "sample_mean = np.mean(samples)\n",
    "pop_dev = np.std(pop)\n",
    "z = (pop_mean - sample_mean) / (pop_dev / np.sqrt(num_samples))\n",
    "\n",
    "#\n",
    "# The p value for a z score of 2.88 is 0.00398.\n",
    "# \n",
    "print(z)"
   ]
  },
  {
   "cell_type": "markdown",
   "metadata": {},
   "source": [
    "### Result\n",
    "\n",
    "- The t test should be used in this cas due to the smaller sample size.  Once n < 30 than the sample distribution is no longer considered normal and a z test is not appropriate."
   ]
  },
  {
   "cell_type": "markdown",
   "metadata": {},
   "source": [
    "## 5. At what temperature should we consider someone's temperature to be \"abnormal\"?\n",
    "\n",
    "- Start by computing the margin of error and confidence interval."
   ]
  },
  {
   "cell_type": "code",
   "execution_count": 13,
   "metadata": {},
   "outputs": [
    {
     "name": "stdout",
     "output_type": "stream",
     "text": [
      "0.165905395442\n"
     ]
    }
   ],
   "source": [
    "#\n",
    "# Calcualate the standard error.\n",
    "#\n",
    "se = stats.sem(df.temperature)\n",
    "\n",
    "#\n",
    "# Calculate the margin of error for a 99% confidence interval.\n",
    "#\n",
    "me = 2.58 * se\n",
    "\n",
    "#\n",
    "# Calculate and print the interval.\n",
    "#\n",
    "interval = [sample_mean - me, sample_mean + me]\n",
    "print(interval)"
   ]
  },
  {
   "cell_type": "code",
   "execution_count": 14,
   "metadata": {},
   "outputs": [
    {
     "name": "stdout",
     "output_type": "stream",
     "text": [
      "(97.88187747316681, 98.218122526833184)\n"
     ]
    }
   ],
   "source": [
    "#\n",
    "# Calculate the 99% confidence interval using scipy and compare with interval above.\n",
    "#\n",
    "interval = stats.t.interval(0.99, num_samples - 1, loc=sample_mean, scale=se)\n",
    "\n",
    "#\n",
    "# Print the interval with the margin of error.\n",
    "#\n",
    "print(interval)"
   ]
  },
  {
   "cell_type": "markdown",
   "metadata": {},
   "source": [
    "### Result\n",
    "\n",
    "- At less than 97.88 or greater than 98.22 a persons temperature sould be considered abnormal."
   ]
  },
  {
   "cell_type": "markdown",
   "metadata": {},
   "source": [
    "## 6. Is there a significant difference between males and females in normal temperature?\n",
    "\n",
    "- What test did you use and why?\n",
    "- Write a story with your conclusion in the context of the original problem."
   ]
  },
  {
   "cell_type": "code",
   "execution_count": 15,
   "metadata": {},
   "outputs": [
    {
     "data": {
      "text/plain": [
       "Ttest_indResult(statistic=-2.2854345381656103, pvalue=0.023931883122395609)"
      ]
     },
     "execution_count": 15,
     "metadata": {},
     "output_type": "execute_result"
    }
   ],
   "source": [
    "#\n",
    "# Split the data into male and female.\n",
    "#\n",
    "males = df.temperature[df.gender == 'M']\n",
    "females = df.temperature[df.gender == 'F']\n",
    "\n",
    "#\n",
    "# Run a two sample t-test on males and females.\n",
    "# \n",
    "stats.ttest_ind(males, females)"
   ]
  },
  {
   "cell_type": "markdown",
   "metadata": {},
   "source": [
    "### Result\n",
    "\n",
    "- After running a two-sample t-test between males and females, comparing the means, the null hypothesis cannot be rejected.  In other words, the is no statistically significant difference in body temperature between males and females. \n",
    "\n",
    "- The origional problem asks if the mean body temperature of 98.6 is statistically correct.  A sample size of 130 samples, with half male and half female is provided for analysis.  Several tests were run to determine whether the sample mean is representative of a hypothetical population mean of 98.6.  It can be seen from the results that the true population mean is not 98.6.  Rather, the mean is 98.05 ± 0.166"
   ]
  }
 ],
 "metadata": {
  "kernelspec": {
   "display_name": "Python 3",
   "language": "python",
   "name": "python3"
  },
  "language_info": {
   "codemirror_mode": {
    "name": "ipython",
    "version": 3
   },
   "file_extension": ".py",
   "mimetype": "text/x-python",
   "name": "python",
   "nbconvert_exporter": "python",
   "pygments_lexer": "ipython3",
   "version": "3.5.2"
  }
 },
 "nbformat": 4,
 "nbformat_minor": 1
}
